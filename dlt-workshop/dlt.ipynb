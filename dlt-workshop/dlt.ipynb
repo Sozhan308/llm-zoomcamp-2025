{
 "cells": [
  {
   "cell_type": "code",
   "execution_count": 2,
   "id": "225f18fe",
   "metadata": {},
   "outputs": [
    {
     "name": "stdout",
     "output_type": "stream",
     "text": [
      "/Volumes/Sozhan-External/Repository/llm-zoomcamp-2025/llmenv/lib/python3.9/site-packages/urllib3/__init__.py:35: NotOpenSSLWarning: urllib3 v2 only supports OpenSSL 1.1.1+, currently the 'ssl' module is compiled with 'LibreSSL 2.8.3'. See: https://github.com/urllib3/urllib3/issues/3020\n",
      "  warnings.warn(\n",
      "\u001b[39mdlt 1.13.0\u001b[0m\n"
     ]
    }
   ],
   "source": [
    "!dlt --version"
   ]
  },
  {
   "cell_type": "code",
   "execution_count": 3,
   "id": "480e600d",
   "metadata": {},
   "outputs": [
    {
     "name": "stderr",
     "output_type": "stream",
     "text": [
      "/Volumes/Sozhan-External/Repository/llm-zoomcamp-2025/llmenv/lib/python3.9/site-packages/urllib3/__init__.py:35: NotOpenSSLWarning: urllib3 v2 only supports OpenSSL 1.1.1+, currently the 'ssl' module is compiled with 'LibreSSL 2.8.3'. See: https://github.com/urllib3/urllib3/issues/3020\n",
      "  warnings.warn(\n"
     ]
    }
   ],
   "source": [
    "import dlt\n",
    "import requests\n",
    "\n",
    "@dlt.resource(write_disposition=\"replace\", name=\"zoomcamp_data\")\n",
    "def zoomcamp_data():\n",
    "    docs_url = 'https://github.com/alexeygrigorev/llm-rag-workshop/raw/main/notebooks/documents.json'\n",
    "    docs_response = requests.get(docs_url)\n",
    "    documents_raw = docs_response.json()\n",
    "\n",
    "    for course in documents_raw:\n",
    "        course_name = course['course']\n",
    "\n",
    "        for doc in course['documents']:\n",
    "            doc['course'] = course_name\n",
    "            yield doc"
   ]
  },
  {
   "cell_type": "code",
   "execution_count": 4,
   "id": "3bf7c7c5",
   "metadata": {},
   "outputs": [],
   "source": [
    "from dlt.destinations import qdrant\n",
    "\n",
    "qdrant_destination = qdrant(\n",
    "  qd_path=\"database.qdrant\", \n",
    ")"
   ]
  },
  {
   "cell_type": "code",
   "execution_count": 5,
   "id": "186a0698",
   "metadata": {},
   "outputs": [
    {
     "data": {
      "application/vnd.jupyter.widget-view+json": {
       "model_id": "ff0e7298158c407aadc41de5a420aa2d",
       "version_major": 2,
       "version_minor": 0
      },
      "text/plain": [
       "Fetching 5 files:   0%|          | 0/5 [00:00<?, ?it/s]"
      ]
     },
     "metadata": {},
     "output_type": "display_data"
    },
    {
     "data": {
      "application/vnd.jupyter.widget-view+json": {
       "model_id": "952fd1ef434f4af1867781e4b685a21f",
       "version_major": 2,
       "version_minor": 0
      },
      "text/plain": [
       "special_tokens_map.json:   0%|          | 0.00/125 [00:00<?, ?B/s]"
      ]
     },
     "metadata": {},
     "output_type": "display_data"
    },
    {
     "data": {
      "application/vnd.jupyter.widget-view+json": {
       "model_id": "e4aeed9240614686b08ba26cb472018c",
       "version_major": 2,
       "version_minor": 0
      },
      "text/plain": [
       "config.json:   0%|          | 0.00/701 [00:00<?, ?B/s]"
      ]
     },
     "metadata": {},
     "output_type": "display_data"
    },
    {
     "data": {
      "application/vnd.jupyter.widget-view+json": {
       "model_id": "c959643e176240d4b1e1cd28450aa54c",
       "version_major": 2,
       "version_minor": 0
      },
      "text/plain": [
       "tokenizer_config.json:   0%|          | 0.00/366 [00:00<?, ?B/s]"
      ]
     },
     "metadata": {},
     "output_type": "display_data"
    },
    {
     "data": {
      "application/vnd.jupyter.widget-view+json": {
       "model_id": "9eac1454e9344dff88d643f5aff98848",
       "version_major": 2,
       "version_minor": 0
      },
      "text/plain": [
       "model_optimized.onnx:   0%|          | 0.00/133M [00:00<?, ?B/s]"
      ]
     },
     "metadata": {},
     "output_type": "display_data"
    },
    {
     "data": {
      "application/vnd.jupyter.widget-view+json": {
       "model_id": "b098c0b36b68497487bd3f1558b9e6c0",
       "version_major": 2,
       "version_minor": 0
      },
      "text/plain": [
       "tokenizer.json: 0.00B [00:00, ?B/s]"
      ]
     },
     "metadata": {},
     "output_type": "display_data"
    },
    {
     "name": "stdout",
     "output_type": "stream",
     "text": [
      "Run started at 2025-07-12 12:53:33.815744+00:00 and COMPLETED in 27.74 seconds with 4 steps.\n",
      "Step extract COMPLETED in 2.02 seconds.\n",
      "\n",
      "Load package 1752324834.999309 is EXTRACTED and NOT YET LOADED to the destination and contains no failed jobs\n",
      "\n",
      "Step normalize COMPLETED in 0.05 seconds.\n",
      "Normalized data for the following tables:\n",
      "- _dlt_pipeline_state: 1 row(s)\n",
      "- zoomcamp_data: 948 row(s)\n",
      "\n",
      "Load package 1752324834.999309 is NORMALIZED and NOT YET LOADED to the destination and contains no failed jobs\n",
      "\n",
      "Step load COMPLETED in 4.49 seconds.\n",
      "Pipeline zoomcamp_pipeline load step completed in 4.48 seconds\n",
      "1 load package(s) were loaded to destination qdrant and into dataset zoomcamp_tagged_data\n",
      "The qdrant destination used /Volumes/Sozhan-External/Repository/llm-zoomcamp-2025/dlt-workshop/database.qdrant location to store data\n",
      "Load package 1752324834.999309 is LOADED and contains no failed jobs\n",
      "\n",
      "Step run COMPLETED in 27.74 seconds.\n",
      "Pipeline zoomcamp_pipeline load step completed in 4.48 seconds\n",
      "1 load package(s) were loaded to destination qdrant and into dataset zoomcamp_tagged_data\n",
      "The qdrant destination used /Volumes/Sozhan-External/Repository/llm-zoomcamp-2025/dlt-workshop/database.qdrant location to store data\n",
      "Load package 1752324834.999309 is LOADED and contains no failed jobs\n"
     ]
    }
   ],
   "source": [
    "pipeline = dlt.pipeline(\n",
    "    pipeline_name=\"zoomcamp_pipeline\",\n",
    "    destination=qdrant_destination,\n",
    "    dataset_name=\"zoomcamp_tagged_data\"\n",
    "\n",
    ")\n",
    "load_info = pipeline.run(zoomcamp_data())\n",
    "print(pipeline.last_trace)"
   ]
  },
  {
   "cell_type": "code",
   "execution_count": 7,
   "id": "287d9cc1",
   "metadata": {},
   "outputs": [
    {
     "name": "stdout",
     "output_type": "stream",
     "text": [
      "{'aliases': {},\n",
      " 'collections': {'zoomcamp_tagged_data': {'hnsw_config': None,\n",
      "                                          'init_from': None,\n",
      "                                          'on_disk_payload': None,\n",
      "                                          'optimizers_config': None,\n",
      "                                          'quantization_config': None,\n",
      "                                          'replication_factor': None,\n",
      "                                          'shard_number': None,\n",
      "                                          'sharding_method': None,\n",
      "                                          'sparse_vectors': None,\n",
      "                                          'strict_mode_config': None,\n",
      "                                          'vectors': {'fast-bge-small-en': {'datatype': None,\n",
      "                                                                            'distance': 'Cosine',\n",
      "                                                                            'hnsw_config': None,\n",
      "                                                                            'multivector_config': None,\n",
      "                                                                            'on_disk': None,\n",
      "                                                                            'quantization_config': None,\n",
      "                                                                            'size': 384}},\n",
      "                                          'wal_config': None,\n",
      "                                          'write_consistency_factor': None},\n",
      "                 'zoomcamp_tagged_data__dlt_loads': {'hnsw_config': None,\n",
      "                                                     'init_from': None,\n",
      "                                                     'on_disk_payload': None,\n",
      "                                                     'optimizers_config': None,\n",
      "                                                     'quantization_config': None,\n",
      "                                                     'replication_factor': None,\n",
      "                                                     'shard_number': None,\n",
      "                                                     'sharding_method': None,\n",
      "                                                     'sparse_vectors': None,\n",
      "                                                     'strict_mode_config': None,\n",
      "                                                     'vectors': {'fast-bge-small-en': {'datatype': None,\n",
      "                                                                                       'distance': 'Cosine',\n",
      "                                                                                       'hnsw_config': None,\n",
      "                                                                                       'multivector_config': None,\n",
      "                                                                                       'on_disk': None,\n",
      "                                                                                       'quantization_config': None,\n",
      "                                                                                       'size': 384}},\n",
      "                                                     'wal_config': None,\n",
      "                                                     'write_consistency_factor': None},\n",
      "                 'zoomcamp_tagged_data__dlt_pipeline_state': {'hnsw_config': None,\n",
      "                                                              'init_from': None,\n",
      "                                                              'on_disk_payload': None,\n",
      "                                                              'optimizers_config': None,\n",
      "                                                              'quantization_config': None,\n",
      "                                                              'replication_factor': None,\n",
      "                                                              'shard_number': None,\n",
      "                                                              'sharding_method': None,\n",
      "                                                              'sparse_vectors': None,\n",
      "                                                              'strict_mode_config': None,\n",
      "                                                              'vectors': {'fast-bge-small-en': {'datatype': None,\n",
      "                                                                                                'distance': 'Cosine',\n",
      "                                                                                                'hnsw_config': None,\n",
      "                                                                                                'multivector_config': None,\n",
      "                                                                                                'on_disk': None,\n",
      "                                                                                                'quantization_config': None,\n",
      "                                                                                                'size': 384}},\n",
      "                                                              'wal_config': None,\n",
      "                                                              'write_consistency_factor': None},\n",
      "                 'zoomcamp_tagged_data__dlt_version': {'hnsw_config': None,\n",
      "                                                       'init_from': None,\n",
      "                                                       'on_disk_payload': None,\n",
      "                                                       'optimizers_config': None,\n",
      "                                                       'quantization_config': None,\n",
      "                                                       'replication_factor': None,\n",
      "                                                       'shard_number': None,\n",
      "                                                       'sharding_method': None,\n",
      "                                                       'sparse_vectors': None,\n",
      "                                                       'strict_mode_config': None,\n",
      "                                                       'vectors': {'fast-bge-small-en': {'datatype': None,\n",
      "                                                                                         'distance': 'Cosine',\n",
      "                                                                                         'hnsw_config': None,\n",
      "                                                                                         'multivector_config': None,\n",
      "                                                                                         'on_disk': None,\n",
      "                                                                                         'quantization_config': None,\n",
      "                                                                                         'size': 384}},\n",
      "                                                       'wal_config': None,\n",
      "                                                       'write_consistency_factor': None},\n",
      "                 'zoomcamp_tagged_data_zoomcamp_data': {'hnsw_config': None,\n",
      "                                                        'init_from': None,\n",
      "                                                        'on_disk_payload': None,\n",
      "                                                        'optimizers_config': None,\n",
      "                                                        'quantization_config': None,\n",
      "                                                        'replication_factor': None,\n",
      "                                                        'shard_number': None,\n",
      "                                                        'sharding_method': None,\n",
      "                                                        'sparse_vectors': None,\n",
      "                                                        'strict_mode_config': None,\n",
      "                                                        'vectors': {'fast-bge-small-en': {'datatype': None,\n",
      "                                                                                          'distance': 'Cosine',\n",
      "                                                                                          'hnsw_config': None,\n",
      "                                                                                          'multivector_config': None,\n",
      "                                                                                          'on_disk': None,\n",
      "                                                                                          'quantization_config': None,\n",
      "                                                                                          'size': 384}},\n",
      "                                                        'wal_config': None,\n",
      "                                                        'write_consistency_factor': None}}}\n"
     ]
    }
   ],
   "source": [
    "import json\n",
    "from pprint import pprint\n",
    "\n",
    "with open(r\"database.qdrant/meta.json\", 'r', encoding=\"utf-8\") as jsonfile:\n",
    "    content = json.load(jsonfile)\n",
    "    pprint(content)"
   ]
  }
 ],
 "metadata": {
  "kernelspec": {
   "display_name": "llmenv",
   "language": "python",
   "name": "python3"
  },
  "language_info": {
   "codemirror_mode": {
    "name": "ipython",
    "version": 3
   },
   "file_extension": ".py",
   "mimetype": "text/x-python",
   "name": "python",
   "nbconvert_exporter": "python",
   "pygments_lexer": "ipython3",
   "version": "3.9.6"
  }
 },
 "nbformat": 4,
 "nbformat_minor": 5
}
